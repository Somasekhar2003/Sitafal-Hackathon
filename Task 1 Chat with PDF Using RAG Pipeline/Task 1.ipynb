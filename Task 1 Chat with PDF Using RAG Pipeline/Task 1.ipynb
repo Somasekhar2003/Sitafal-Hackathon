{
 "cells": [
  {
   "cell_type": "code",
   "execution_count": 1,
   "metadata": {},
   "outputs": [
    {
     "name": "stdout",
     "output_type": "stream",
     "text": [
      "Requirement already satisfied: langchain-community in c:\\users\\91949\\appdata\\local\\programs\\python\\python312\\lib\\site-packages (0.3.12)Note: you may need to restart the kernel to use updated packages.\n",
      "\n",
      "Requirement already satisfied: faiss-cpu in c:\\users\\91949\\appdata\\local\\programs\\python\\python312\\lib\\site-packages (1.9.0.post1)\n",
      "Requirement already satisfied: langchain-huggingface in c:\\users\\91949\\appdata\\local\\programs\\python\\python312\\lib\\site-packages (0.1.2)\n",
      "Requirement already satisfied: pymupdf in c:\\users\\91949\\appdata\\local\\programs\\python\\python312\\lib\\site-packages (1.25.1)\n",
      "Requirement already satisfied: tiktoken in c:\\users\\91949\\appdata\\local\\programs\\python\\python312\\lib\\site-packages (0.8.0)\n",
      "Requirement already satisfied: langchain-ollama in c:\\users\\91949\\appdata\\local\\programs\\python\\python312\\lib\\site-packages (0.2.1)\n",
      "Requirement already satisfied: python-dotenv in c:\\users\\91949\\appdata\\local\\programs\\python\\python312\\lib\\site-packages (1.0.1)\n",
      "Requirement already satisfied: PyYAML>=5.3 in c:\\users\\91949\\appdata\\local\\programs\\python\\python312\\lib\\site-packages (from langchain-community) (6.0.1)\n",
      "Requirement already satisfied: SQLAlchemy<3,>=1.4 in c:\\users\\91949\\appdata\\local\\programs\\python\\python312\\lib\\site-packages (from langchain-community) (2.0.30)\n",
      "Requirement already satisfied: aiohttp<4.0.0,>=3.8.3 in c:\\users\\91949\\appdata\\local\\programs\\python\\python312\\lib\\site-packages (from langchain-community) (3.11.10)\n",
      "Requirement already satisfied: dataclasses-json<0.7,>=0.5.7 in c:\\users\\91949\\appdata\\local\\programs\\python\\python312\\lib\\site-packages (from langchain-community) (0.6.7)\n",
      "Requirement already satisfied: httpx-sse<0.5.0,>=0.4.0 in c:\\users\\91949\\appdata\\local\\programs\\python\\python312\\lib\\site-packages (from langchain-community) (0.4.0)\n",
      "Requirement already satisfied: langchain<0.4.0,>=0.3.12 in c:\\users\\91949\\appdata\\local\\programs\\python\\python312\\lib\\site-packages (from langchain-community) (0.3.12)\n",
      "Requirement already satisfied: langchain-core<0.4.0,>=0.3.25 in c:\\users\\91949\\appdata\\local\\programs\\python\\python312\\lib\\site-packages (from langchain-community) (0.3.25)\n",
      "Requirement already satisfied: langsmith<0.3,>=0.1.125 in c:\\users\\91949\\appdata\\local\\programs\\python\\python312\\lib\\site-packages (from langchain-community) (0.2.3)\n",
      "Requirement already satisfied: numpy<3,>=1.26.2 in c:\\users\\91949\\appdata\\local\\programs\\python\\python312\\lib\\site-packages (from langchain-community) (1.26.4)\n",
      "Requirement already satisfied: pydantic-settings<3.0.0,>=2.4.0 in c:\\users\\91949\\appdata\\local\\programs\\python\\python312\\lib\\site-packages (from langchain-community) (2.7.0)\n",
      "Requirement already satisfied: requests<3,>=2 in c:\\users\\91949\\appdata\\local\\programs\\python\\python312\\lib\\site-packages (from langchain-community) (2.32.3)\n",
      "Requirement already satisfied: tenacity!=8.4.0,<10,>=8.1.0 in c:\\users\\91949\\appdata\\local\\programs\\python\\python312\\lib\\site-packages (from langchain-community) (9.0.0)\n",
      "Requirement already satisfied: packaging in c:\\users\\91949\\appdata\\local\\programs\\python\\python312\\lib\\site-packages (from faiss-cpu) (24.1)\n",
      "Requirement already satisfied: huggingface-hub>=0.23.0 in c:\\users\\91949\\appdata\\local\\programs\\python\\python312\\lib\\site-packages (from langchain-huggingface) (0.27.0)\n",
      "Requirement already satisfied: sentence-transformers>=2.6.0 in c:\\users\\91949\\appdata\\local\\programs\\python\\python312\\lib\\site-packages (from langchain-huggingface) (3.3.1)\n",
      "Requirement already satisfied: tokenizers>=0.19.1 in c:\\users\\91949\\appdata\\local\\programs\\python\\python312\\lib\\site-packages (from langchain-huggingface) (0.21.0)\n",
      "Requirement already satisfied: transformers>=4.39.0 in c:\\users\\91949\\appdata\\local\\programs\\python\\python312\\lib\\site-packages (from langchain-huggingface) (4.47.0)\n",
      "Requirement already satisfied: regex>=2022.1.18 in c:\\users\\91949\\appdata\\local\\programs\\python\\python312\\lib\\site-packages (from tiktoken) (2024.11.6)\n",
      "Requirement already satisfied: ollama<1,>=0.3.0 in c:\\users\\91949\\appdata\\local\\programs\\python\\python312\\lib\\site-packages (from langchain-ollama) (0.4.4)\n",
      "Requirement already satisfied: aiohappyeyeballs>=2.3.0 in c:\\users\\91949\\appdata\\local\\programs\\python\\python312\\lib\\site-packages (from aiohttp<4.0.0,>=3.8.3->langchain-community) (2.4.4)\n",
      "Requirement already satisfied: aiosignal>=1.1.2 in c:\\users\\91949\\appdata\\local\\programs\\python\\python312\\lib\\site-packages (from aiohttp<4.0.0,>=3.8.3->langchain-community) (1.3.2)\n",
      "Requirement already satisfied: attrs>=17.3.0 in c:\\users\\91949\\appdata\\local\\programs\\python\\python312\\lib\\site-packages (from aiohttp<4.0.0,>=3.8.3->langchain-community) (23.2.0)\n",
      "Requirement already satisfied: frozenlist>=1.1.1 in c:\\users\\91949\\appdata\\local\\programs\\python\\python312\\lib\\site-packages (from aiohttp<4.0.0,>=3.8.3->langchain-community) (1.5.0)\n",
      "Requirement already satisfied: multidict<7.0,>=4.5 in c:\\users\\91949\\appdata\\local\\programs\\python\\python312\\lib\\site-packages (from aiohttp<4.0.0,>=3.8.3->langchain-community) (6.1.0)\n",
      "Requirement already satisfied: propcache>=0.2.0 in c:\\users\\91949\\appdata\\local\\programs\\python\\python312\\lib\\site-packages (from aiohttp<4.0.0,>=3.8.3->langchain-community) (0.2.1)\n",
      "Requirement already satisfied: yarl<2.0,>=1.17.0 in c:\\users\\91949\\appdata\\local\\programs\\python\\python312\\lib\\site-packages (from aiohttp<4.0.0,>=3.8.3->langchain-community) (1.18.3)\n",
      "Requirement already satisfied: marshmallow<4.0.0,>=3.18.0 in c:\\users\\91949\\appdata\\local\\programs\\python\\python312\\lib\\site-packages (from dataclasses-json<0.7,>=0.5.7->langchain-community) (3.23.1)\n",
      "Requirement already satisfied: typing-inspect<1,>=0.4.0 in c:\\users\\91949\\appdata\\local\\programs\\python\\python312\\lib\\site-packages (from dataclasses-json<0.7,>=0.5.7->langchain-community) (0.9.0)\n",
      "Requirement already satisfied: filelock in c:\\users\\91949\\appdata\\local\\programs\\python\\python312\\lib\\site-packages (from huggingface-hub>=0.23.0->langchain-huggingface) (3.15.4)\n",
      "Requirement already satisfied: fsspec>=2023.5.0 in c:\\users\\91949\\appdata\\local\\programs\\python\\python312\\lib\\site-packages (from huggingface-hub>=0.23.0->langchain-huggingface) (2024.6.1)\n",
      "Requirement already satisfied: tqdm>=4.42.1 in c:\\users\\91949\\appdata\\local\\programs\\python\\python312\\lib\\site-packages (from huggingface-hub>=0.23.0->langchain-huggingface) (4.67.1)\n",
      "Requirement already satisfied: typing-extensions>=3.7.4.3 in c:\\users\\91949\\appdata\\local\\programs\\python\\python312\\lib\\site-packages (from huggingface-hub>=0.23.0->langchain-huggingface) (4.12.2)\n",
      "Requirement already satisfied: langchain-text-splitters<0.4.0,>=0.3.3 in c:\\users\\91949\\appdata\\local\\programs\\python\\python312\\lib\\site-packages (from langchain<0.4.0,>=0.3.12->langchain-community) (0.3.3)\n",
      "Requirement already satisfied: pydantic<3.0.0,>=2.7.4 in c:\\users\\91949\\appdata\\local\\programs\\python\\python312\\lib\\site-packages (from langchain<0.4.0,>=0.3.12->langchain-community) (2.10.3)\n",
      "Requirement already satisfied: jsonpatch<2.0,>=1.33 in c:\\users\\91949\\appdata\\local\\programs\\python\\python312\\lib\\site-packages (from langchain-core<0.4.0,>=0.3.25->langchain-community) (1.33)\n",
      "Requirement already satisfied: httpx<1,>=0.23.0 in c:\\users\\91949\\appdata\\local\\programs\\python\\python312\\lib\\site-packages (from langsmith<0.3,>=0.1.125->langchain-community) (0.27.0)\n",
      "Requirement already satisfied: orjson<4.0.0,>=3.9.14 in c:\\users\\91949\\appdata\\local\\programs\\python\\python312\\lib\\site-packages (from langsmith<0.3,>=0.1.125->langchain-community) (3.10.12)\n",
      "Requirement already satisfied: requests-toolbelt<2.0.0,>=1.0.0 in c:\\users\\91949\\appdata\\local\\programs\\python\\python312\\lib\\site-packages (from langsmith<0.3,>=0.1.125->langchain-community) (1.0.0)\n",
      "Requirement already satisfied: charset-normalizer<4,>=2 in c:\\users\\91949\\appdata\\local\\programs\\python\\python312\\lib\\site-packages (from requests<3,>=2->langchain-community) (3.3.2)\n",
      "Requirement already satisfied: idna<4,>=2.5 in c:\\users\\91949\\appdata\\local\\programs\\python\\python312\\lib\\site-packages (from requests<3,>=2->langchain-community) (3.7)\n",
      "Requirement already satisfied: urllib3<3,>=1.21.1 in c:\\users\\91949\\appdata\\local\\programs\\python\\python312\\lib\\site-packages (from requests<3,>=2->langchain-community) (2.2.2)\n",
      "Requirement already satisfied: certifi>=2017.4.17 in c:\\users\\91949\\appdata\\local\\programs\\python\\python312\\lib\\site-packages (from requests<3,>=2->langchain-community) (2024.7.4)\n",
      "Requirement already satisfied: torch>=1.11.0 in c:\\users\\91949\\appdata\\local\\programs\\python\\python312\\lib\\site-packages (from sentence-transformers>=2.6.0->langchain-huggingface) (2.3.1)\n",
      "Requirement already satisfied: scikit-learn in c:\\users\\91949\\appdata\\local\\programs\\python\\python312\\lib\\site-packages (from sentence-transformers>=2.6.0->langchain-huggingface) (1.5.1)\n",
      "Requirement already satisfied: scipy in c:\\users\\91949\\appdata\\local\\programs\\python\\python312\\lib\\site-packages (from sentence-transformers>=2.6.0->langchain-huggingface) (1.14.0)\n",
      "Requirement already satisfied: Pillow in c:\\users\\91949\\appdata\\local\\programs\\python\\python312\\lib\\site-packages (from sentence-transformers>=2.6.0->langchain-huggingface) (10.4.0)\n",
      "Requirement already satisfied: greenlet!=0.4.17 in c:\\users\\91949\\appdata\\local\\programs\\python\\python312\\lib\\site-packages (from SQLAlchemy<3,>=1.4->langchain-community) (3.0.3)\n",
      "Requirement already satisfied: safetensors>=0.4.1 in c:\\users\\91949\\appdata\\local\\programs\\python\\python312\\lib\\site-packages (from transformers>=4.39.0->langchain-huggingface) (0.4.5)\n",
      "Requirement already satisfied: anyio in c:\\users\\91949\\appdata\\local\\programs\\python\\python312\\lib\\site-packages (from httpx<1,>=0.23.0->langsmith<0.3,>=0.1.125->langchain-community) (4.4.0)\n",
      "Requirement already satisfied: httpcore==1.* in c:\\users\\91949\\appdata\\local\\programs\\python\\python312\\lib\\site-packages (from httpx<1,>=0.23.0->langsmith<0.3,>=0.1.125->langchain-community) (1.0.5)\n",
      "Requirement already satisfied: sniffio in c:\\users\\91949\\appdata\\local\\programs\\python\\python312\\lib\\site-packages (from httpx<1,>=0.23.0->langsmith<0.3,>=0.1.125->langchain-community) (1.3.1)\n",
      "Requirement already satisfied: h11<0.15,>=0.13 in c:\\users\\91949\\appdata\\local\\programs\\python\\python312\\lib\\site-packages (from httpcore==1.*->httpx<1,>=0.23.0->langsmith<0.3,>=0.1.125->langchain-community) (0.14.0)\n",
      "Requirement already satisfied: jsonpointer>=1.9 in c:\\users\\91949\\appdata\\local\\programs\\python\\python312\\lib\\site-packages (from jsonpatch<2.0,>=1.33->langchain-core<0.4.0,>=0.3.25->langchain-community) (3.0.0)\n",
      "Requirement already satisfied: annotated-types>=0.6.0 in c:\\users\\91949\\appdata\\local\\programs\\python\\python312\\lib\\site-packages (from pydantic<3.0.0,>=2.7.4->langchain<0.4.0,>=0.3.12->langchain-community) (0.7.0)\n",
      "Requirement already satisfied: pydantic-core==2.27.1 in c:\\users\\91949\\appdata\\local\\programs\\python\\python312\\lib\\site-packages (from pydantic<3.0.0,>=2.7.4->langchain<0.4.0,>=0.3.12->langchain-community) (2.27.1)\n",
      "Requirement already satisfied: sympy in c:\\users\\91949\\appdata\\local\\programs\\python\\python312\\lib\\site-packages (from torch>=1.11.0->sentence-transformers>=2.6.0->langchain-huggingface) (1.13.0)\n",
      "Requirement already satisfied: networkx in c:\\users\\91949\\appdata\\local\\programs\\python\\python312\\lib\\site-packages (from torch>=1.11.0->sentence-transformers>=2.6.0->langchain-huggingface) (3.3)\n",
      "Requirement already satisfied: jinja2 in c:\\users\\91949\\appdata\\local\\programs\\python\\python312\\lib\\site-packages (from torch>=1.11.0->sentence-transformers>=2.6.0->langchain-huggingface) (3.1.4)\n",
      "Requirement already satisfied: mkl<=2021.4.0,>=2021.1.1 in c:\\users\\91949\\appdata\\local\\programs\\python\\python312\\lib\\site-packages (from torch>=1.11.0->sentence-transformers>=2.6.0->langchain-huggingface) (2021.4.0)\n",
      "Requirement already satisfied: colorama in c:\\users\\91949\\appdata\\local\\programs\\python\\python312\\lib\\site-packages (from tqdm>=4.42.1->huggingface-hub>=0.23.0->langchain-huggingface) (0.4.6)\n",
      "Requirement already satisfied: mypy-extensions>=0.3.0 in c:\\users\\91949\\appdata\\local\\programs\\python\\python312\\lib\\site-packages (from typing-inspect<1,>=0.4.0->dataclasses-json<0.7,>=0.5.7->langchain-community) (1.0.0)\n",
      "Requirement already satisfied: joblib>=1.2.0 in c:\\users\\91949\\appdata\\local\\programs\\python\\python312\\lib\\site-packages (from scikit-learn->sentence-transformers>=2.6.0->langchain-huggingface) (1.4.2)\n",
      "Requirement already satisfied: threadpoolctl>=3.1.0 in c:\\users\\91949\\appdata\\local\\programs\\python\\python312\\lib\\site-packages (from scikit-learn->sentence-transformers>=2.6.0->langchain-huggingface) (3.5.0)\n",
      "Requirement already satisfied: intel-openmp==2021.* in c:\\users\\91949\\appdata\\local\\programs\\python\\python312\\lib\\site-packages (from mkl<=2021.4.0,>=2021.1.1->torch>=1.11.0->sentence-transformers>=2.6.0->langchain-huggingface) (2021.4.0)\n",
      "Requirement already satisfied: tbb==2021.* in c:\\users\\91949\\appdata\\local\\programs\\python\\python312\\lib\\site-packages (from mkl<=2021.4.0,>=2021.1.1->torch>=1.11.0->sentence-transformers>=2.6.0->langchain-huggingface) (2021.13.0)\n",
      "Requirement already satisfied: MarkupSafe>=2.0 in c:\\users\\91949\\appdata\\local\\programs\\python\\python312\\lib\\site-packages (from jinja2->torch>=1.11.0->sentence-transformers>=2.6.0->langchain-huggingface) (2.1.5)\n",
      "Requirement already satisfied: mpmath<1.4,>=1.1.0 in c:\\users\\91949\\appdata\\local\\programs\\python\\python312\\lib\\site-packages (from sympy->torch>=1.11.0->sentence-transformers>=2.6.0->langchain-huggingface) (1.3.0)\n"
     ]
    },
    {
     "name": "stderr",
     "output_type": "stream",
     "text": [
      "\n",
      "[notice] A new release of pip is available: 24.1.2 -> 24.3.1\n",
      "[notice] To update, run: python.exe -m pip install --upgrade pip\n"
     ]
    }
   ],
   "source": [
    "pip install -U langchain-community faiss-cpu langchain-huggingface pymupdf tiktoken langchain-ollama python-dotenv"
   ]
  },
  {
   "cell_type": "code",
   "execution_count": 2,
   "metadata": {},
   "outputs": [
    {
     "data": {
      "text/plain": [
       "True"
      ]
     },
     "execution_count": 2,
     "metadata": {},
     "output_type": "execute_result"
    }
   ],
   "source": [
    "import os\n",
    "import warnings\n",
    "from dotenv import load_dotenv\n",
    "\n",
    "os.environ['KMP_DUPLICATE_LIB_OK'] = 'True'\n",
    "warnings.filterwarnings(\"ignore\")\n",
    "\n",
    "load_dotenv()"
   ]
  },
  {
   "cell_type": "code",
   "execution_count": 3,
   "metadata": {},
   "outputs": [
    {
     "data": {
      "text/plain": [
       "'chat_myPDF'"
      ]
     },
     "execution_count": 3,
     "metadata": {},
     "output_type": "execute_result"
    }
   ],
   "source": [
    "os.environ['LANGCHAIN_PROJECT']"
   ]
  },
  {
   "cell_type": "markdown",
   "metadata": {},
   "source": [
    "### Document Loader"
   ]
  },
  {
   "cell_type": "code",
   "execution_count": 4,
   "metadata": {},
   "outputs": [],
   "source": [
    "from langchain_community.document_loaders import PyMuPDFLoader\n",
    "\n",
    "loader = PyMuPDFLoader(\"./rag-dataset/gym supplements/1. Analysis of Actual Fitness Supplement.pdf\")\n",
    "\n",
    "docs = loader.load()"
   ]
  },
  {
   "cell_type": "code",
   "execution_count": 5,
   "metadata": {},
   "outputs": [
    {
     "name": "stdout",
     "output_type": "stream",
     "text": [
      "Citation: Espeño, P.R.; Ong, A.K.S.;\n",
      "German, J.D.; Gumasing, M.J.J.; Casas,\n",
      "E.S. Analysis of Actual Fitness\n",
      "Supplement Consumption among\n",
      "Health and Fitness Enthusiasts. Foods\n",
      "2024, 13, 1424. https://doi.org/\n",
      "10.3390/foods13091424\n",
      "Academic Editors: Ilija Djekic\n",
      "and Nada Smigic\n",
      "Received: 30 March 2024\n",
      "Revised: 15 April 2024\n",
      "Accepted: 18 April 2024\n",
      "Published: 6 May 2024\n",
      "Copyright: © 2024 by the authors.\n",
      "Licensee MDPI, Basel, Switzerland.\n",
      "This article is an open access article\n",
      "distributed\n",
      "under\n",
      "the\n",
      "terms\n",
      "and\n",
      "conditions of the Creative Commons\n",
      "Attribution (CC BY) license (https://\n",
      "creativecommons.org/licenses/by/\n",
      "4.0/).\n",
      "foods\n",
      "Article\n",
      "Analysis of Actual Fitness Supplement Consumption among\n",
      "Health and Fitness Enthusiasts\n",
      "Paolo Renzo Espeño 1, Ardvin Kester S. Ong 1,2,*\n",
      ", Josephine D. German 1\n",
      ", Ma. Janice J. Gumasing 3\n",
      "and Ethan S. Casas 1\n",
      "1\n",
      "School of Industrial Engineering and Engineering Management, Mapúa University, 658 Muralla St.,\n",
      "Intramuros, Manila 1002, Philippines\n",
      "2\n",
      "E.T. Yuchengo School of Business, Mapúa University, 1191 Pablo Ocampo Sr. Ext., Makati 1204, Philippines\n",
      "3\n",
      "Department of Industrial and Systems Engineering, Gokongwei College of Engineering,\n",
      "De La Salle University, 2401 Taft Ave., Manila 1007, Philippines\n",
      "*\n",
      "Correspondence: aksong@mapua.edu.ph; Tel.: +63-(2)8247-5000 (ext. 6202)\n",
      "Abstract: With the rising popularity of fitness supplements, understanding the factors driving their\n",
      "consumption behaviors is crucial. This study investigated the actual consumption of fitness supple-\n",
      "ments utilizing the Theory of Planned Behavior (TPB), Health Belief Model (HBM), and the Theory\n",
      "of Effort Minimization in Physical Activity (TEMPA) frameworks. The TPB provided insights into\n",
      "how attitudes, subjective norms, and perceived behavioral control influence individuals’ intentions\n",
      "to consume fitness supplements. Additionally, the HBM sheds light on perceived effectiveness,\n",
      "benefits, barriers, and health motivation related to supplement consumption. Integrating the TEMPA\n",
      "framework further investigated the role of effort minimization in physical activity contexts. Through\n",
      "an online questionnaire, data were collected from a sample of 250 fitness supplement-consuming\n",
      "respondents. SEM analysis revealed significant associations between behavioral intentions and\n",
      "attitudes, perceived behavioral control, health motivation, and controlled precursors. However, it\n",
      "was seen that subjective norms, perceived effectiveness, perceived benefits, and automatic precursors\n",
      "were deemed insignificant. The findings contribute to a comprehensive understanding of the factors\n",
      "shaping actual consumption behaviors, offering valuable implications for marketers, health profes-\n",
      "sionals, and policymakers seeking to promote informed and responsible supplement use among\n",
      "health and fitness enthusiasts.\n",
      "Keywords: fitness supplements; health belief model; theory of effort of minimization; theory of\n",
      "planned behavior; structural equation modelling\n",
      "1. Introduction\n",
      "Supplementary drinks or fitness supplements are commonly used to enhance an\n",
      "individual’s performance in various sports and health settings, catering to both competitive\n",
      "and non-competitive athletes [1]. One widely known supplement for athletes and fitness\n",
      "enthusiasts is protein supplements like protein shakes. Others may be whey protein,\n",
      "caffeine, and creatine, to name a few. These supplements play a crucial role in helping\n",
      "individuals increase muscle mass, recover faster, and enhance their overall performance [2].\n",
      "Whey protein stands out as a top-quality protein source, containing more essential amino\n",
      "acids than traditional protein sources. Its numerous benefits have made it a popular choice\n",
      "for snacks and drinks among consumers [3]. Another widely embraced supplement is\n",
      "caffeine, which is found in many sports and food supplements. Caffeine reduces perceived\n",
      "effort, minimizes fatigue and pain, and proves to be effective for endurance and high-\n",
      "intensity activities, which is the choice of consumers [4].\n",
      "Creatine monohydrate is another well-known supplement used to gain muscle mass\n",
      "and support performance and recovery. It is known not to increase fat mass and remains\n",
      "effective even when taken in recommended doses [5]. Despite its popularity in the fitness\n",
      "Foods 2024, 13, 1424. https://doi.org/10.3390/foods13091424\n",
      "https://www.mdpi.com/journal/foods\n",
      "\n"
     ]
    }
   ],
   "source": [
    "doc = docs[0]\n",
    "print(doc.page_content)"
   ]
  },
  {
   "cell_type": "code",
   "execution_count": 6,
   "metadata": {},
   "outputs": [
    {
     "data": {
      "text/plain": [
       "['rag-dataset\\\\gym supplements\\\\1. Analysis of Actual Fitness Supplement.pdf',\n",
       " 'rag-dataset\\\\gym supplements\\\\2. High Prevalence of Supplement Intake.pdf',\n",
       " 'rag-dataset\\\\health supplements\\\\1. dietary supplements - for whom.pdf',\n",
       " 'rag-dataset\\\\health supplements\\\\2. Nutraceuticals research.pdf',\n",
       " 'rag-dataset\\\\health supplements\\\\3.health_supplements_side_effects.pdf']"
      ]
     },
     "execution_count": 6,
     "metadata": {},
     "output_type": "execute_result"
    }
   ],
   "source": [
    "import os\n",
    "\n",
    "pdfs = []\n",
    "for root, dirs, files in os.walk('rag-dataset'):\n",
    "    # print(root, dirs, files)\n",
    "    for file in files:\n",
    "        if file.endswith('.pdf'):\n",
    "            pdfs.append(os.path.join(root, file))\n",
    "pdfs"
   ]
  },
  {
   "cell_type": "code",
   "execution_count": 7,
   "metadata": {},
   "outputs": [],
   "source": [
    "docs = []\n",
    "for pdf in pdfs:\n",
    "    loader = PyMuPDFLoader(pdf)\n",
    "    pages = loader.load()\n",
    "\n",
    "    docs.extend(pages)"
   ]
  },
  {
   "cell_type": "code",
   "execution_count": 13,
   "metadata": {},
   "outputs": [
    {
     "data": {
      "text/plain": [
       "64"
      ]
     },
     "execution_count": 13,
     "metadata": {},
     "output_type": "execute_result"
    }
   ],
   "source": [
    "len(docs)"
   ]
  },
  {
   "cell_type": "markdown",
   "metadata": {},
   "source": [
    "### Document Chunking"
   ]
  },
  {
   "cell_type": "code",
   "execution_count": 8,
   "metadata": {},
   "outputs": [],
   "source": [
    "from langchain_text_splitters import RecursiveCharacterTextSplitter\n",
    "\n",
    "\n",
    "text_splitter = RecursiveCharacterTextSplitter(chunk_size=1000, chunk_overlap=100)\n",
    "\n",
    "chunks = text_splitter.split_documents(docs)"
   ]
  },
  {
   "cell_type": "code",
   "execution_count": 9,
   "metadata": {},
   "outputs": [
    {
     "data": {
      "text/plain": [
       "(64, 311)"
      ]
     },
     "execution_count": 9,
     "metadata": {},
     "output_type": "execute_result"
    }
   ],
   "source": [
    "len(docs), len(chunks)"
   ]
  },
  {
   "cell_type": "code",
   "execution_count": 10,
   "metadata": {},
   "outputs": [
    {
     "data": {
      "text/plain": [
       "(4340, 981)"
      ]
     },
     "execution_count": 10,
     "metadata": {},
     "output_type": "execute_result"
    }
   ],
   "source": [
    "len(docs[0].page_content), len(chunks[0].page_content)"
   ]
  },
  {
   "cell_type": "code",
   "execution_count": 12,
   "metadata": {},
   "outputs": [
    {
     "data": {
      "text/plain": [
       "(969, 294)"
      ]
     },
     "execution_count": 12,
     "metadata": {},
     "output_type": "execute_result"
    }
   ],
   "source": [
    "import tiktoken\n",
    "\n",
    "encoding = tiktoken.encoding_for_model(\"gpt-4o-mini\")\n",
    "\n",
    "len(encoding.encode(docs[0].page_content)), len(encoding.encode(chunks[0].page_content))"
   ]
  },
  {
   "cell_type": "markdown",
   "metadata": {},
   "source": [
    "### Document Vector Embedding"
   ]
  },
  {
   "cell_type": "code",
   "execution_count": 16,
   "metadata": {},
   "outputs": [],
   "source": [
    "from langchain_ollama import OllamaEmbeddings\n",
    "\n",
    "import faiss\n",
    "from langchain_community.vectorstores import FAISS\n",
    "from langchain_community.docstore.in_memory import InMemoryDocstore"
   ]
  },
  {
   "cell_type": "code",
   "execution_count": 17,
   "metadata": {},
   "outputs": [],
   "source": [
    "embeddings = OllamaEmbeddings(model='nomic-embed-text', base_url=\"http://localhost:11434\")\n",
    "\n",
    "single_vector = embeddings.embed_query(\"this is some text data\")\n"
   ]
  },
  {
   "cell_type": "code",
   "execution_count": 18,
   "metadata": {},
   "outputs": [
    {
     "data": {
      "text/plain": [
       "768"
      ]
     },
     "execution_count": 18,
     "metadata": {},
     "output_type": "execute_result"
    }
   ],
   "source": [
    "len(single_vector)"
   ]
  },
  {
   "cell_type": "code",
   "execution_count": 19,
   "metadata": {},
   "outputs": [
    {
     "data": {
      "text/plain": [
       "(0, 768)"
      ]
     },
     "execution_count": 19,
     "metadata": {},
     "output_type": "execute_result"
    }
   ],
   "source": [
    "index = faiss.IndexFlatL2(len(single_vector))\n",
    "index.ntotal, index.d"
   ]
  },
  {
   "cell_type": "code",
   "execution_count": 20,
   "metadata": {},
   "outputs": [],
   "source": [
    "vector_store = FAISS(\n",
    "    embedding_function=embeddings,\n",
    "    index=index,\n",
    "    docstore=InMemoryDocstore(),\n",
    "    index_to_docstore_id={}\n",
    ")"
   ]
  },
  {
   "cell_type": "code",
   "execution_count": 21,
   "metadata": {},
   "outputs": [
    {
     "data": {
      "text/plain": [
       "311"
      ]
     },
     "execution_count": 21,
     "metadata": {},
     "output_type": "execute_result"
    }
   ],
   "source": [
    "len(chunks)"
   ]
  },
  {
   "cell_type": "code",
   "execution_count": 22,
   "metadata": {},
   "outputs": [],
   "source": [
    "ids = vector_store.add_documents(documents=chunks)"
   ]
  },
  {
   "cell_type": "code",
   "execution_count": 23,
   "metadata": {},
   "outputs": [
    {
     "data": {
      "text/plain": [
       "311"
      ]
     },
     "execution_count": 23,
     "metadata": {},
     "output_type": "execute_result"
    }
   ],
   "source": [
    "vector_store.index_to_docstore_id\n",
    "len(ids)"
   ]
  },
  {
   "cell_type": "code",
   "execution_count": 24,
   "metadata": {},
   "outputs": [
    {
     "data": {
      "text/plain": [
       "311"
      ]
     },
     "execution_count": 24,
     "metadata": {},
     "output_type": "execute_result"
    }
   ],
   "source": [
    "# # store vector database\n",
    "db_name = \"health_supplements\"\n",
    "vector_store.save_local(db_name)\n",
    "\n",
    "# # load vector database\n",
    "new_vector_store = FAISS.load_local(db_name, embeddings=embeddings, allow_dangerous_deserialization=True)\n",
    "len(new_vector_store.index_to_docstore_id)"
   ]
  },
  {
   "cell_type": "markdown",
   "metadata": {},
   "source": [
    "### Retreival"
   ]
  },
  {
   "cell_type": "code",
   "execution_count": 26,
   "metadata": {},
   "outputs": [
    {
     "name": "stdout",
     "output_type": "stream",
     "text": [
      "\n",
      "Search results for: 'what are the benefits of BCAA supplements?'\n",
      "\n",
      "Foods 2024, 13, 1424\n",
      "2 of 21\n",
      "and sports industry, evidence suggests that creatine can benefit not only athletes but also\n",
      "the elderly and the general population [6]. Branched-chain amino acids (BCAA) also offer\n",
      "a plethora of benefits for consumers. As explained by Sanz et al. [7], BCAAs are stored\n",
      "directly in muscles and serve as the raw materials needed to build new muscle. This\n",
      "contributes to the overall process of strengthening muscles and alleviating post-workout\n",
      "soreness. Consumers often integrate these supplements into their routines with the aim of\n",
      "optimizing the outcomes they wish to achieve and support overall well-being [1].\n",
      "The sports supplement industry makes for an impressive market share of nearly\n",
      "$12 billion in the health/wellness portfolio and is projected to be worth $24.4 billion\n",
      "by 2025. In a study by Burke [4], which investigated 20 published studies about the\n",
      "prevalence, methods, and reasons for supplement consumption, it is evident from the\n",
      "\n",
      "\n",
      "\n",
      "Attribution (CC BY) license (https://\n",
      "creativecommons.org/licenses/by/\n",
      "4.0/).\n",
      "Department of Nutrition and Nutritional Value of Food, National Institute of Public Health NIH—National\n",
      "Research Institute, Chocimska St. 24, 00-791 Warsaw, Poland; rwierzejska@pzh.gov.pl\n",
      "Abstract: Dietary supplements are products containing nutrients sold in various medicinal forms,\n",
      "and their widespread use may stem from the conviction that a preparation that looks like a drug\n",
      "must have therapeutic properties. The aim of this scoping review is to present what is known\n",
      "about the effects of using selected dietary supplements in the context of chronic diseases, as well\n",
      "as the risks associated with their use. The literature shows that the taking of vitamin and mineral\n",
      "supplements by healthy people neither lowers their risk of cardiovascular diseases nor prevents\n",
      "the development of malignancies. Many scientiﬁc societies recognize that omega-3 fatty acids\n",
      "\n",
      "\n",
      "\n",
      "health. The most commonly used supplements were multivitamin/mineral supplements, \n",
      "calcium supplements, and omega-3/fish oil (3). About a quarter of the supplements were \n",
      "used based on advice by health care providers. Thus, most decisions to use supplements are \n",
      "made by the consumers themselves.\n",
      "Despite their popularity, the health benefits of dietary supplements are questionable. Lack of \n",
      "vitamins will certainly cause deficiency diseases such as scurvy, beriberi, pellagra, and \n",
      "rickets. However, the vitamin content of normal well-balanced diets is sufficient to avoid \n",
      "these diseases. Studies aimed at determining effects of supplements often give conflicting \n",
      "results. There currently doesn’t seem to be any scientific consensus on whether vitamins (4) \n",
      "or any other dietary supplements prevent disease or have health benefits in well-nourished \n",
      "individuals.\n",
      "The intake of dietary supplements is generally safe, but not totally without risk. The current\n",
      "\n",
      "\n",
      "\n",
      "(64). Yet, such supplements exist and can readily be obtained e.g. over the internet. \n",
      "Furthermore, they may be more likely to give real physiological effects desired by the \n",
      "consumer due to the pharmacological efficiency of anabolic steroids or other drugs \n",
      "incorporated in the supplements. Medical providers and toxicologists should be therefore be \n",
      "aware of symptoms elicited by these compounds.\n",
      "Body weight supplements with some documented weight-loss effects were those containing \n",
      "extracts of the plant Ephedra, also known as Ma Huang. Extracts contain the \n",
      "sympathomimetic alkaloids ephedrine, pseudoephedrine, methylephedrine, and \n",
      "norephedrine. Some of these alkaloids are currently incorporated in common pharmaceutical \n",
      "medications. For example, pseudoephedrine is included as a nasal decongestant in several \n",
      "brands of cold and allergy medication in the US like Claritin-D and Sudafed. A \n",
      "comprehensive meta-analysis of clinical trials showed that ephedra or ephedrine-containing\n",
      "\n",
      "\n",
      "\n",
      "\n",
      "Search results for: 'what are the benefits of BCAA supplements?'\n",
      "\n",
      "Foods 2024, 13, 1424\n",
      "2 of 21\n",
      "and sports industry, evidence suggests that creatine can benefit not only athletes but also\n",
      "the elderly and the general population [6]. Branched-chain amino acids (BCAA) also offer\n",
      "a plethora of benefits for consumers. As explained by Sanz et al. [7], BCAAs are stored\n",
      "directly in muscles and serve as the raw materials needed to build new muscle. This\n",
      "contributes to the overall process of strengthening muscles and alleviating post-workout\n",
      "soreness. Consumers often integrate these supplements into their routines with the aim of\n",
      "optimizing the outcomes they wish to achieve and support overall well-being [1].\n",
      "The sports supplement industry makes for an impressive market share of nearly\n",
      "$12 billion in the health/wellness portfolio and is projected to be worth $24.4 billion\n",
      "by 2025. In a study by Burke [4], which investigated 20 published studies about the\n",
      "prevalence, methods, and reasons for supplement consumption, it is evident from the\n",
      "\n",
      "\n",
      "\n",
      "Attribution (CC BY) license (https://\n",
      "creativecommons.org/licenses/by/\n",
      "4.0/).\n",
      "Department of Nutrition and Nutritional Value of Food, National Institute of Public Health NIH—National\n",
      "Research Institute, Chocimska St. 24, 00-791 Warsaw, Poland; rwierzejska@pzh.gov.pl\n",
      "Abstract: Dietary supplements are products containing nutrients sold in various medicinal forms,\n",
      "and their widespread use may stem from the conviction that a preparation that looks like a drug\n",
      "must have therapeutic properties. The aim of this scoping review is to present what is known\n",
      "about the effects of using selected dietary supplements in the context of chronic diseases, as well\n",
      "as the risks associated with their use. The literature shows that the taking of vitamin and mineral\n",
      "supplements by healthy people neither lowers their risk of cardiovascular diseases nor prevents\n",
      "the development of malignancies. Many scientiﬁc societies recognize that omega-3 fatty acids\n",
      "\n",
      "\n",
      "\n",
      "health. The most commonly used supplements were multivitamin/mineral supplements, \n",
      "calcium supplements, and omega-3/fish oil (3). About a quarter of the supplements were \n",
      "used based on advice by health care providers. Thus, most decisions to use supplements are \n",
      "made by the consumers themselves.\n",
      "Despite their popularity, the health benefits of dietary supplements are questionable. Lack of \n",
      "vitamins will certainly cause deficiency diseases such as scurvy, beriberi, pellagra, and \n",
      "rickets. However, the vitamin content of normal well-balanced diets is sufficient to avoid \n",
      "these diseases. Studies aimed at determining effects of supplements often give conflicting \n",
      "results. There currently doesn’t seem to be any scientific consensus on whether vitamins (4) \n",
      "or any other dietary supplements prevent disease or have health benefits in well-nourished \n",
      "individuals.\n",
      "The intake of dietary supplements is generally safe, but not totally without risk. The current\n",
      "\n",
      "\n",
      "\n",
      "(64). Yet, such supplements exist and can readily be obtained e.g. over the internet. \n",
      "Furthermore, they may be more likely to give real physiological effects desired by the \n",
      "consumer due to the pharmacological efficiency of anabolic steroids or other drugs \n",
      "incorporated in the supplements. Medical providers and toxicologists should be therefore be \n",
      "aware of symptoms elicited by these compounds.\n",
      "Body weight supplements with some documented weight-loss effects were those containing \n",
      "extracts of the plant Ephedra, also known as Ma Huang. Extracts contain the \n",
      "sympathomimetic alkaloids ephedrine, pseudoephedrine, methylephedrine, and \n",
      "norephedrine. Some of these alkaloids are currently incorporated in common pharmaceutical \n",
      "medications. For example, pseudoephedrine is included as a nasal decongestant in several \n",
      "brands of cold and allergy medication in the US like Claritin-D and Sudafed. A \n",
      "comprehensive meta-analysis of clinical trials showed that ephedra or ephedrine-containing\n",
      "\n",
      "\n",
      "\n",
      "Exiting the program.\n"
     ]
    }
   ],
   "source": [
    "while True:\n",
    "    question = input(\"Enter your question(or type 'exit' to quit): \")\n",
    "    \n",
    "    if question.lower() == 'exit':\n",
    "        print(\"Exiting the program.\")\n",
    "        break\n",
    "    \n",
    "    # Assuming vector_store is already defined and contains the relevant data\n",
    "    docs = vector_store.search(query=question, search_type='similarity')\n",
    "    \n",
    "    print(f\"\\nSearch results for: '{question}'\\n\")\n",
    "    \n",
    "    for doc in docs:\n",
    "        print(doc.page_content)\n",
    "        print(\"\\n\\n\")\n"
   ]
  },
  {
   "cell_type": "code",
   "execution_count": 23,
   "metadata": {},
   "outputs": [],
   "source": [
    "# question = \"what is used to reduce weight?\"\n",
    "# question = \"what are side effects of supplements?\"\n",
    "# question = \"what are the benefits of supplements?\"\n",
    "# question = \"what are the benefits of BCAA supplements?\""
   ]
  },
  {
   "cell_type": "code",
   "execution_count": 27,
   "metadata": {},
   "outputs": [
    {
     "name": "stdout",
     "output_type": "stream",
     "text": [
      "acids than traditional protein sources. Its numerous benefits have made it a popular choice\n",
      "for snacks and drinks among consumers [3]. Another widely embraced supplement is\n",
      "caffeine, which is found in many sports and food supplements. Caffeine reduces perceived\n",
      "effort, minimizes fatigue and pain, and proves to be effective for endurance and high-\n",
      "intensity activities, which is the choice of consumers [4].\n",
      "Creatine monohydrate is another well-known supplement used to gain muscle mass\n",
      "and support performance and recovery. It is known not to increase fat mass and remains\n",
      "effective even when taken in recommended doses [5]. Despite its popularity in the fitness\n",
      "Foods 2024, 13, 1424. https://doi.org/10.3390/foods13091424\n",
      "https://www.mdpi.com/journal/foods\n",
      "\n",
      "\n",
      "\n",
      "and strength gain among men. We detected more prevalent protein and creatine supplementation\n",
      "among younger compared to older ﬁtness center users, whereas the opposite was found for vitamin\n",
      "supplementation. Other authors made similar observations [23] and it might reﬂect the diﬀerent\n",
      "training goals among age groups, i.e., more focus on strength and muscles among the younger and\n",
      "more focus on health among the older age groups.\n",
      "Comparable to other studies [4], we detected a positive correlation between training frequency\n",
      "and supplement usage. Nevertheless, the correlation is weak and is deﬁnitely not a predictor at the\n",
      "individual level. The subject with the highest supplement intake of 100 weekly servings was training\n",
      "only once a week.\n",
      "\n",
      "\n",
      "\n",
      "women consuming isoflavone supplements (59) and, given the clear evidence of \n",
      "estrogenicity, there is a likelihood of increased risk of estrogen sensitive cancers in \n",
      "consumers of these products.\n",
      "WEIGHT-LOSS, SPORTS, AND BODYBUILDING SUPPLEMENTS\n",
      "As more and more of the world population becomes overweight and obese, there is a huge \n",
      "market for weight-loss products, including dietary supplements. Among military service \n",
      "members, athletes and bodybuilders it is also common to ingest dietary sports supplements \n",
      "intended to burn fat and increase performance, muscle mass or strength. As examples, 53% \n",
      "of active-duty US Army soldiers report using at least one dietary supplement per week (60), \n",
      "and 64% of college students participating in athletics use dietary supplements to enhance \n",
      "performance (61). The supplements are often proprietary blends of several supposedly \n",
      "natural ingredients. They are not without risk of adverse effects. In a recent review, it is\n",
      "\n",
      "\n",
      "\n",
      "yohimbine, and even amphetamine and its derivatives being found in supplements con-\n",
      "tinues to grow [105,106,127,137]. A US study revealed that 11 out of 21 supplements that\n",
      "contained the Acacia rigidula extract that were purchased on the Internet contained the iso-\n",
      "mer of amphetamine [138]. In South Korea, substances that bore a structural resemblance\n",
      "to amphetamine were found in 10 out of 110 weight loss supplements [139]. In Italy, 28%\n",
      "of the supplements purchased online contained sibutramine or substances only permitted\n",
      "in medicines or their analogs, which had not been tested for toxicology [135]. Apart from\n",
      "weight loss supplements, preparations for muscle building and sexual potency have also\n",
      "been found to be contaminated. International studies indicate that 12–58% of the supple-\n",
      "ments for physically active people contained substances that have previously been banned\n",
      "by the World Anti-Doping Agency [140].\n",
      "\n",
      "\n",
      "\n"
     ]
    }
   ],
   "source": [
    "question = \"what is used to gain muscle mass?\"\n",
    "docs = vector_store.search(query=question, search_type='similarity')\n",
    "\n",
    "for doc in docs:\n",
    "    print(doc.page_content)\n",
    "    print(\"\\n\\n\")"
   ]
  },
  {
   "cell_type": "code",
   "execution_count": 28,
   "metadata": {},
   "outputs": [],
   "source": [
    "retriever = vector_store.as_retriever(search_type=\"mmr\", search_kwargs = {'k': 3, \n",
    "                                                                          'fetch_k': 100,\n",
    "                                                                          'lambda_mult': 1})"
   ]
  },
  {
   "cell_type": "code",
   "execution_count": 29,
   "metadata": {},
   "outputs": [],
   "source": [
    "docs = retriever.invoke(question)\n",
    "\n",
    "# for doc in docs:\n",
    "#     print(doc.page_content)\n",
    "#     print(\"\\n\\n\")"
   ]
  },
  {
   "cell_type": "code",
   "execution_count": 30,
   "metadata": {},
   "outputs": [
    {
     "data": {
      "text/plain": [
       "[Document(metadata={'source': 'rag-dataset\\\\health supplements\\\\3.health_supplements_side_effects.pdf', 'file_path': 'rag-dataset\\\\health supplements\\\\3.health_supplements_side_effects.pdf', 'page': 1, 'total_pages': 11, 'format': 'PDF 1.5', 'title': '', 'author': '', 'subject': '', 'keywords': '', 'creator': '', 'producer': 'iLovePDF', 'creationDate': '', 'modDate': 'D:20241021143742Z', 'trapped': ''}, page_content='The intake of dietary supplements is generally safe, but not totally without risk. The current \\nreview is not intended to be comprehensive report of all known adverse effect for all dietary \\nsupplements. Instead, we have selected to discuss adverse events for the most commonly \\nused supplements such as vitamins, minerals, omega-3/fish oil, soy protein, and plant-\\nderived antioxidant and anti-inflammatory nutraceuticals. We also discuss weight-loss and \\nbody building supplements, and various botanical supplements which have been associated \\nwith more severe adverse effects.\\nSince dietary supplements can be brought to the market without the support of clinical trials, \\nthere is a paucity of systematic studies of adverse effects. Case reports of symptoms \\nappearing after intake of a supplement often provide the first hint that there can be side \\nRonis et al.\\nPage 2\\nAnnu Rev Pharmacol Toxicol. Author manuscript; available in PMC 2019 February 19.\\nAuthor Manuscript\\nAuthor Manuscript'),\n",
       " Document(metadata={'source': 'rag-dataset\\\\health supplements\\\\1. dietary supplements - for whom.pdf', 'file_path': 'rag-dataset\\\\health supplements\\\\1. dietary supplements - for whom.pdf', 'page': 15, 'total_pages': 17, 'format': 'PDF 1.7', 'title': '', 'author': '', 'subject': '', 'keywords': '', 'creator': '', 'producer': 'iLovePDF', 'creationDate': '', 'modDate': 'D:20241021113754Z', 'trapped': ''}, page_content='in such cases where the person already has a better nutritional status, including a lack\\nof vitamin and mineral deﬁciencies, supplementation may not be of beneﬁt, and long-\\nterm consumption of excessive quantities of these nutrients may, in fact, have detrimental\\nside effects. The risk of such side effects increases when consumers take several dietary\\nsupplements at the same time (for example, “for immunity”, “for the heart”, or “for an\\nefﬁcient mind”), as they may contain the same vitamins and minerals as each other.\\nOn the other hand, the beneﬁcial effect of using certain nutrients (omega-3 fatty\\nacids) in the treatment of lipid disorders, as demonstrated in studies, undermines the\\nregistration of preparations intended for this purpose as dietary supplements. Dietary\\nsupplements, by their deﬁnition, serve to supplement the usual diet with nutrients or\\ncomponents with a physiological effect, and this group of preparations does not include'),\n",
       " Document(metadata={'source': 'rag-dataset\\\\health supplements\\\\3.health_supplements_side_effects.pdf', 'file_path': 'rag-dataset\\\\health supplements\\\\3.health_supplements_side_effects.pdf', 'page': 2, 'total_pages': 11, 'format': 'PDF 1.5', 'title': '', 'author': '', 'subject': '', 'keywords': '', 'creator': '', 'producer': 'iLovePDF', 'creationDate': '', 'modDate': 'D:20241021143742Z', 'trapped': ''}, page_content='effects associated with the supplement. However, it is close to impossible to show causation \\nfrom a single case report. The link can be strengthened if symptoms disappear with cessation \\nof intake and reappear if the supplement is ingested again. Otherwise, an accumulation of \\ncases over time or the appearance of a cluster of cases can ultimately establish that intake of \\na supplement can result in adverse effects.\\nVITAMIN AND MINERAL SUPPLEMENTS\\nBy the early 20th century, it had become clear that nutrition consisting solely of \\ncarbohydrates, fats, and proteins is insufficient for maintaining health. The term “vitamine” \\nwas coined by Casimir Funk in 1912 to describe the micronutrients whose deficiencies cause \\nberiberi, scurvy, and pellagra (5). As the various vitamins were isolated and synthesized, a \\nmarket for vitamins quickly developed. Today, multivitamin/multimineral, vitamin and \\nmineral supplements are the most widely utilized dietary supplements by the American')]"
      ]
     },
     "execution_count": 30,
     "metadata": {},
     "output_type": "execute_result"
    }
   ],
   "source": [
    "#question = \"what is used to reduce weight?\"\n",
    "question = \"what are side effects of supplements?\"\n",
    "# question = \"what are the benefits of supplements?\"\n",
    "# question = \"what are the benefits of BCAA supplements?\"\n",
    "docs = retriever.invoke(question)\n",
    "docs"
   ]
  }
 ],
 "metadata": {
  "kernelspec": {
   "display_name": "Python 3",
   "language": "python",
   "name": "python3"
  },
  "language_info": {
   "codemirror_mode": {
    "name": "ipython",
    "version": 3
   },
   "file_extension": ".py",
   "mimetype": "text/x-python",
   "name": "python",
   "nbconvert_exporter": "python",
   "pygments_lexer": "ipython3",
   "version": "3.12.4"
  }
 },
 "nbformat": 4,
 "nbformat_minor": 2
}
